{
 "cells": [
  {
   "cell_type": "code",
   "execution_count": 1,
   "id": "dc736cb9-043d-4939-a517-d2bfd08780b5",
   "metadata": {},
   "outputs": [],
   "source": [
    "import gradio as gr\n",
    "import PyPDF2\n",
    "import ollama\n",
    "import json\n",
    "from pdf2image import convert_from_path\n",
    "from PIL import Image\n",
    "import tempfile\n",
    "\n",
    "from langchain_community.chat_models import ChatOllama"
   ]
  },
  {
   "cell_type": "code",
   "execution_count": 2,
   "id": "bac3b64d-c6b2-4c2d-a012-17075b9fdc1c",
   "metadata": {},
   "outputs": [],
   "source": [
    "def extract_text_from_pdf(pdf_file):\n",
    "    with open(pdf_file, \"rb\") as file:\n",
    "        pdf_reader = PyPDF2.PdfReader(file)\n",
    "        text = \"\"\n",
    "        for page in pdf_reader.pages:\n",
    "            text += page.extract_text()\n",
    "    return text"
   ]
  },
  {
   "cell_type": "code",
   "execution_count": 3,
   "id": "0ea60c7d-b2e7-4728-891d-5f5845f8d5d1",
   "metadata": {},
   "outputs": [],
   "source": [
    "def preview_pdf_as_image(pdf_file):\n",
    "    # Convertir la primera página del PDF a una imagen\n",
    "    images = convert_from_path(pdf_file, first_page=0, last_page=1)\n",
    "    # Guardar la imagen en un archivo temporal\n",
    "    with tempfile.NamedTemporaryFile(delete=False, suffix=\".png\") as temp_img:\n",
    "        images[0].save(temp_img.name, 'PNG')\n",
    "        return temp_img.name\n"
   ]
  },
  {
   "cell_type": "code",
   "execution_count": 4,
   "id": "69d1b16a-8429-48bd-add3-94693fe45149",
   "metadata": {},
   "outputs": [],
   "source": [
    "def extract_categories(text):\n",
    "    # Definir la función para extraer categorías\n",
    "    functions = [\n",
    "        {\n",
    "            \"name\": \"extract_categories\",\n",
    "            \"description\": \"Extract the most important categories from the provided text.\",\n",
    "            \"parameters\": {\n",
    "                \"type\": \"object\",\n",
    "                \"properties\": {\n",
    "                    \"categories\": {\n",
    "                        \"type\": \"array\",\n",
    "                        \"items\": {\n",
    "                            \"type\": \"string\",\n",
    "                            \"description\": \"A category extracted from the text.\"\n",
    "                        }\n",
    "                    }\n",
    "                },\n",
    "                \"required\": [\"categories\"]\n",
    "            }\n",
    "        }\n",
    "    ]\n",
    "\n",
    "    llm = ChatOllama(\n",
    "        model=\"llama3.1\",\n",
    "        temperature=0,\n",
    "        functions=functions\n",
    "    )\n",
    "\n",
    "    # Enviar el texto al LLM para extraer las categorías\n",
    "    messages = [\n",
    "        {\"role\": \"system\", \"content\": \"You are a helpful assistant.\"},\n",
    "        {\"role\": \"user\", \"content\": text}\n",
    "    ]\n",
    "\n",
    "    response = llm.invoke(messages)\n",
    "    \n",
    "    # Parsear la respuesta JSON y retornar\n",
    "    return response.content"
   ]
  },
  {
   "cell_type": "code",
   "execution_count": 5,
   "id": "f9a87d98-6474-4a06-b8f5-8a100970f752",
   "metadata": {},
   "outputs": [],
   "source": [
    "def process_pdf(pdf_file):\n",
    "    text = extract_text_from_pdf(pdf_file)\n",
    "    categories = extract_categories(text)\n",
    "    return categories\n"
   ]
  },
  {
   "cell_type": "code",
   "execution_count": null,
   "id": "9dfec551-79ab-41cb-aa83-9d4f7f171903",
   "metadata": {},
   "outputs": [],
   "source": [
    "# Crear la interfaz de Gradio\n",
    "with gr.Blocks() as demo:\n",
    "    with gr.Row():\n",
    "        pdf_input = gr.File(label=\"Cargar PDF\", type=\"filepath\")\n",
    "        pdf_preview = gr.Image(label=\"Vista Previa del PDF\", interactive=False)\n",
    "    \n",
    "    # Mostrar la vista previa cuando se cargue el archivo\n",
    "    pdf_input.change(preview_pdf_as_image, pdf_input, pdf_preview)\n",
    "    \n",
    "    with gr.Row():\n",
    "        extract_btn = gr.Button(\"Extraer Categorías\")\n",
    "        output_text = gr.Textbox(label=\"Categorías Extraídas\", interactive=False)\n",
    "    \n",
    "    # Extraer y mostrar las categorías cuando se presione el botón\n",
    "    extract_btn.click(process_pdf, pdf_input, output_text)\n",
    "    # Iniciar la aplicación Gradio\n",
    "    demo.launch(share=True)"
   ]
  }
 ],
 "metadata": {
  "kernelspec": {
   "display_name": "Python (venv)",
   "language": "python",
   "name": "venv"
  },
  "language_info": {
   "codemirror_mode": {
    "name": "ipython",
    "version": 3
   },
   "file_extension": ".py",
   "mimetype": "text/x-python",
   "name": "python",
   "nbconvert_exporter": "python",
   "pygments_lexer": "ipython3",
   "version": "3.10.12"
  }
 },
 "nbformat": 4,
 "nbformat_minor": 5
}
