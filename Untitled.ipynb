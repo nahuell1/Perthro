{
 "cells": [
  {
   "cell_type": "code",
   "execution_count": 1,
   "id": "f20df284-d685-40d4-9e15-d621cf3be5d2",
   "metadata": {},
   "outputs": [],
   "source": [
    "import gradio as gr\n",
    "from pdf2image import convert_from_path\n",
    "from PIL import Image\n",
    "import PyPDF2"
   ]
  },
  {
   "cell_type": "code",
   "execution_count": 2,
   "id": "e6dbfcf0-33ac-4694-9eea-a8c406a43cc0",
   "metadata": {},
   "outputs": [],
   "source": [
    "def preview_pdf_as_image(pdf_file):\n",
    "    # Convertir la primera página del PDF a una imagen\n",
    "    images = convert_from_path(pdf_file, first_page=0, last_page=1)\n",
    "    return images[0]"
   ]
  },
  {
   "cell_type": "code",
   "execution_count": 3,
   "id": "dce78860-8dc6-405e-a8b6-f29f4aca85cd",
   "metadata": {},
   "outputs": [],
   "source": [
    "def extract_text_from_pdf(pdf_file):\n",
    "    with open(pdf_file, \"rb\") as file:\n",
    "        pdf_reader = PyPDF2.PdfReader(file)\n",
    "        text = \"\"\n",
    "        for page in pdf_reader.pages:\n",
    "            text += page.extract_text()\n",
    "    return text"
   ]
  },
  {
   "cell_type": "code",
   "execution_count": 4,
   "id": "c753cbb7-cf4f-49a5-bd9a-52ffa5d6b426",
   "metadata": {},
   "outputs": [],
   "source": [
    "# Crear la interfaz de Gradio\n",
    "with gr.Blocks() as demo:\n",
    "    with gr.Row():\n",
    "        pdf_input = gr.File(label=\"Cargar PDF\", type=\"filepath\")\n",
    "        pdf_preview = gr.Image(label=\"Vista Previa del PDF\", interactive=False)\n",
    "    \n",
    "    # Mostrar la vista previa cuando se cargue el archivo\n",
    "    pdf_input.change(preview_pdf_as_image, pdf_input, pdf_preview)\n",
    "    \n",
    "    with gr.Row():\n",
    "        extract_btn = gr.Button(\"Extraer Texto\")\n",
    "        output_text = gr.Textbox(label=\"Texto Extraído\", interactive=False)\n",
    "    \n",
    "    # Extraer y mostrar el texto cuando se presione el botón\n",
    "    extract_btn.click(extract_text_from_pdf, pdf_input, output_text)"
   ]
  },
  {
   "cell_type": "code",
   "execution_count": null,
   "id": "e868420d-cffc-4b53-8895-ae583a5a3b7f",
   "metadata": {},
   "outputs": [],
   "source": [
    "# Iniciar la aplicación Gradio\n",
    "demo.launch()"
   ]
  },
  {
   "cell_type": "code",
   "execution_count": null,
   "id": "c16438ac-3127-4e35-aec7-5d2522972fe1",
   "metadata": {},
   "outputs": [],
   "source": []
  },
  {
   "cell_type": "code",
   "execution_count": null,
   "id": "331cd24d-23f9-413e-80a2-656c19e7d8a7",
   "metadata": {},
   "outputs": [],
   "source": []
  }
 ],
 "metadata": {
  "kernelspec": {
   "display_name": "Python (venv)",
   "language": "python",
   "name": "venv"
  },
  "language_info": {
   "codemirror_mode": {
    "name": "ipython",
    "version": 3
   },
   "file_extension": ".py",
   "mimetype": "text/x-python",
   "name": "python",
   "nbconvert_exporter": "python",
   "pygments_lexer": "ipython3",
   "version": "3.10.12"
  }
 },
 "nbformat": 4,
 "nbformat_minor": 5
}
